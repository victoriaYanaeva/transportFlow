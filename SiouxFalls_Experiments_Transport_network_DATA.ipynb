{
 "cells": [
  {
   "cell_type": "code",
   "execution_count": 1,
   "metadata": {
    "collapsed": true
   },
   "outputs": [],
   "source": [
    "## Data Initializing"
   ]
  },
  {
   "cell_type": "code",
   "execution_count": 3,
   "metadata": {
    "collapsed": false
   },
   "outputs": [
    {
     "ename": "ImportError",
     "evalue": "No module named scanf",
     "output_type": "error",
     "traceback": [
      "\u001b[0;31m---------------------------------------------------------------------------\u001b[0m",
      "\u001b[0;31mImportError\u001b[0m                               Traceback (most recent call last)",
      "\u001b[0;32m<ipython-input-3-3b2d72110654>\u001b[0m in \u001b[0;36m<module>\u001b[0;34m()\u001b[0m\n\u001b[1;32m      1\u001b[0m \u001b[1;32mimport\u001b[0m \u001b[0mpandas\u001b[0m \u001b[1;32mas\u001b[0m \u001b[0mpd\u001b[0m\u001b[1;33m\u001b[0m\u001b[0m\n\u001b[1;32m      2\u001b[0m \u001b[1;32mimport\u001b[0m \u001b[0mnumpy\u001b[0m \u001b[1;32mas\u001b[0m \u001b[0mnp\u001b[0m\u001b[1;33m\u001b[0m\u001b[0m\n\u001b[0;32m----> 3\u001b[0;31m \u001b[1;32mimport\u001b[0m \u001b[0mdata_handler\u001b[0m \u001b[1;32mas\u001b[0m \u001b[0mdh\u001b[0m\u001b[1;33m\u001b[0m\u001b[0m\n\u001b[0m\u001b[1;32m      4\u001b[0m \u001b[1;32mimport\u001b[0m \u001b[0mtransport_graph\u001b[0m \u001b[1;32mas\u001b[0m \u001b[0mtg\u001b[0m\u001b[1;33m\u001b[0m\u001b[0m\n\u001b[1;32m      5\u001b[0m \u001b[1;32mimport\u001b[0m \u001b[0mmodel\u001b[0m\u001b[1;33m\u001b[0m\u001b[0m\n",
      "\u001b[0;32mC:\\Users\\Victoria\\Downloads\\data_handler.py\u001b[0m in \u001b[0;36m<module>\u001b[0;34m()\u001b[0m\n\u001b[0;32m----> 1\u001b[0;31m \u001b[1;32mfrom\u001b[0m \u001b[0mscanf\u001b[0m \u001b[1;32mimport\u001b[0m \u001b[0mscanf\u001b[0m\u001b[1;33m\u001b[0m\u001b[0m\n\u001b[0m\u001b[1;32m      2\u001b[0m \u001b[1;32mimport\u001b[0m \u001b[0mre\u001b[0m\u001b[1;33m\u001b[0m\u001b[0m\n\u001b[1;32m      3\u001b[0m \u001b[1;32mimport\u001b[0m \u001b[0mnumpy\u001b[0m \u001b[1;32mas\u001b[0m \u001b[0mnp\u001b[0m\u001b[1;33m\u001b[0m\u001b[0m\n\u001b[1;32m      4\u001b[0m \u001b[1;32mimport\u001b[0m \u001b[0mpandas\u001b[0m \u001b[1;32mas\u001b[0m \u001b[0mpd\u001b[0m\u001b[1;33m\u001b[0m\u001b[0m\n\u001b[1;32m      5\u001b[0m \u001b[1;33m\u001b[0m\u001b[0m\n",
      "\u001b[0;31mImportError\u001b[0m: No module named scanf"
     ]
    }
   ],
   "source": [
    "import pandas as pd\n",
    "import numpy as np\n",
    "import data_handler as dh\n",
    "import transport_graph as tg\n",
    "import model\n",
    "import time"
   ]
  },
  {
   "cell_type": "code",
   "execution_count": null,
   "metadata": {
    "collapsed": true
   },
   "outputs": [],
   "source": [
    "net_name = 'SiouxFalls_net.tntp'\n",
    "trips_name = 'SiouxFalls_trips.tntp'"
   ]
  },
  {
   "cell_type": "code",
   "execution_count": null,
   "metadata": {
    "collapsed": false
   },
   "outputs": [],
   "source": [
    "handler = dh.DataHandler()\n",
    "graph_data = handler.GetGraphData(net_name, columns_order = np.array([0, 1, 2, 4]))\n",
    "graph_data['graph_table']"
   ]
  },
  {
   "cell_type": "code",
   "execution_count": 4,
   "metadata": {
    "collapsed": false
   },
   "outputs": [
    {
     "data": {
      "text/plain": [
       "360600.0"
      ]
     },
     "execution_count": 4,
     "metadata": {},
     "output_type": "execute_result"
    }
   ],
   "source": [
    "graph_correspondences, total_od_flow = handler.GetGraphCorrespondences(trips_name)\n",
    "total_od_flow"
   ]
  },
  {
   "cell_type": "code",
   "execution_count": 5,
   "metadata": {
    "collapsed": false
   },
   "outputs": [
    {
     "data": {
      "text/plain": [
       "(24, 24)"
      ]
     },
     "execution_count": 5,
     "metadata": {},
     "output_type": "execute_result"
    }
   ],
   "source": [
    "correspondences_matrix = []\n",
    "for source_values in graph_correspondences.values():\n",
    "    correspondences_matrix.append(list(source_values.values()))\n",
    "correspondences_matrix = np.array(correspondences_matrix)\n",
    "np.shape(correspondences_matrix)"
   ]
  },
  {
   "cell_type": "code",
   "execution_count": 6,
   "metadata": {
    "collapsed": false
   },
   "outputs": [
    {
     "name": "stdout",
     "output_type": "stream",
     "text": [
      "gamma = 1.0\n",
      "Oracles created...\n",
      "Universal similar triangles function...\n",
      "Iterations number: 1\n",
      "Duality_gap / Duality_gap_init = 1.0\n",
      "Duality_gap = 11686542.6018\n",
      "Iterations number: 2\n",
      "Duality_gap / Duality_gap_init = 0.882095305256\n",
      "Duality_gap = 10308644.3637\n",
      "Iterations number: 3\n",
      "Duality_gap / Duality_gap_init = 0.68942150899\n",
      "Duality_gap = 8056953.83541\n",
      "Iterations number: 4\n",
      "Duality_gap / Duality_gap_init = 0.440754322554\n",
      "Duality_gap = 5150894.16746\n",
      "Iterations number: 5\n",
      "Duality_gap / Duality_gap_init = 0.225617251498\n",
      "Duality_gap = 2636685.62133\n",
      "Iterations number: 6\n",
      "Duality_gap / Duality_gap_init = 0.117957172127\n",
      "Duality_gap = 1378511.51725\n",
      "Iterations number: 7\n",
      "Duality_gap / Duality_gap_init = 0.0691779204099\n",
      "Duality_gap = 808450.713975\n",
      "Iterations number: 8\n",
      "Duality_gap / Duality_gap_init = 0.0399727596292\n",
      "Duality_gap = 467143.358319\n",
      "Iterations number: 9\n",
      "Duality_gap / Duality_gap_init = 0.0199301329379\n",
      "Duality_gap = 232914.347639\n",
      "Iterations number: 10\n",
      "Duality_gap / Duality_gap_init = 0.0108587107457\n",
      "Duality_gap = 126900.785731\n",
      "Iterations number: 11\n",
      "Duality_gap / Duality_gap_init = 0.00864678882168\n",
      "Duality_gap = 101051.065933\n",
      "Iterations number: 12\n",
      "Duality_gap / Duality_gap_init = 0.0285749063846\n",
      "Duality_gap = 333941.860806\n",
      "Iterations number: 13\n",
      "Duality_gap / Duality_gap_init = 0.0269700084918\n",
      "Duality_gap = 315186.15321\n",
      "Iterations number: 14\n",
      "Duality_gap / Duality_gap_init = 0.0184856528177\n",
      "Duality_gap = 216033.369176\n",
      "Iterations number: 15\n",
      "Duality_gap / Duality_gap_init = 0.00891180944833\n",
      "Duality_gap = 104148.240777\n",
      "Iterations number: 16\n",
      "Duality_gap / Duality_gap_init = 0.00183927330742\n",
      "Duality_gap = 21494.7458636\n",
      "Iterations number: 17\n",
      "Duality_gap / Duality_gap_init = 0.00144272136255\n",
      "Duality_gap = 16860.424666\n",
      "Iterations number: 18\n",
      "Duality_gap / Duality_gap_init = 0.00130106151195\n",
      "Duality_gap = 15204.910787\n",
      "Iterations number: 19\n",
      "Duality_gap / Duality_gap_init = 0.000997561517616\n",
      "Duality_gap = 11658.0451735\n",
      "Success!  Iterations number: 19\n",
      "Elapsed time: 48 sec\n"
     ]
    }
   ],
   "source": [
    "graph = tg.TransportGraph(graph_data)\n",
    "gammas = [1.0]\n",
    "flows = []\n",
    "times = []\n",
    "iter_nums = []\n",
    "\n",
    "for gamma in gammas:\n",
    "    tic = time.time()\n",
    "    print('gamma = ' + str(gamma))\n",
    "    result = model.model_solve(graph, graph_correspondences, total_od_flow, \n",
    "                           gamma = gamma, mu = 0.25, rho = 0.15, epsilon = 1e-3, max_iter = 5000, verbose = True)\n",
    "    toc = time.time()\n",
    "    print('Elapsed time: {:.0f} sec'.format(toc - tic))\n",
    "    flows.append(result['flows'])\n",
    "    times.append(result['times'])\n",
    "    iter_nums.append(result['iter_num'])"
   ]
  },
  {
   "cell_type": "code",
   "execution_count": 7,
   "metadata": {
    "collapsed": true
   },
   "outputs": [],
   "source": [
    "def ReadAnswer(filename):\n",
    "    with open(filename) as myfile:\n",
    "        lines = myfile.readlines()\n",
    "    lines = np.array(lines)[range(1, len(lines))]\n",
    "    values_dict = {'flow': [], 'time': []}\n",
    "    for line in lines:\n",
    "        line = line.strip('[ \\n]')\n",
    "        nums = line.split(' \\t')\n",
    "        values_dict['flow'].append(float(nums[2]))\n",
    "        values_dict['time'].append(float(nums[3]))\n",
    "    return values_dict"
   ]
  },
  {
   "cell_type": "code",
   "execution_count": 8,
   "metadata": {
    "collapsed": false
   },
   "outputs": [
    {
     "data": {
      "text/plain": [
       "[0.034394390274592956]"
      ]
     },
     "execution_count": 8,
     "metadata": {},
     "output_type": "execute_result"
    }
   ],
   "source": [
    "values_dict = ReadAnswer('SiouxFalls_flow.tntp')\n",
    "flow_star = values_dict['flow']\n",
    "time_star = values_dict['time']\n",
    "delta = []\n",
    "for flow in flows:\n",
    "    delta.append(np.linalg.norm(flow - flow_star, ord = 1) / np.linalg.norm(flow_star, ord = 1))\n",
    "delta"
   ]
  },
  {
   "cell_type": "markdown",
   "metadata": {},
   "source": [
    "### DATA FOR CORRESPONDENCES CALCULATIONS:"
   ]
  },
  {
   "cell_type": "markdown",
   "metadata": {},
   "source": [
    "Матрица корреспонденций, к которой должен быть близок ответ вашего метода:"
   ]
  },
  {
   "cell_type": "code",
   "execution_count": 9,
   "metadata": {
    "collapsed": false
   },
   "outputs": [
    {
     "data": {
      "text/plain": [
       "(24, 24)"
      ]
     },
     "execution_count": 9,
     "metadata": {},
     "output_type": "execute_result"
    }
   ],
   "source": [
    "correspondences_matrix\n",
    "np.shape(correspondences_matrix)"
   ]
  },
  {
   "cell_type": "markdown",
   "metadata": {},
   "source": [
    "Входные данные для вашего метода:"
   ]
  },
  {
   "cell_type": "markdown",
   "metadata": {},
   "source": [
    "Средние временные издержки"
   ]
  },
  {
   "cell_type": "code",
   "execution_count": 14,
   "metadata": {
    "collapsed": false
   },
   "outputs": [
    {
     "data": {
      "text/plain": [
       "(24, 24)"
      ]
     },
     "execution_count": 14,
     "metadata": {},
     "output_type": "execute_result"
    }
   ],
   "source": [
    "times_average = result['time_average_w']\n",
    "np.shape(times_average)"
   ]
  },
  {
   "cell_type": "markdown",
   "metadata": {},
   "source": [
    "Количество выезжающих из каждого района:"
   ]
  },
  {
   "cell_type": "code",
   "execution_count": 1,
   "metadata": {
    "collapsed": false
   },
   "outputs": [
    {
     "ename": "NameError",
     "evalue": "name 'np' is not defined",
     "output_type": "error",
     "traceback": [
      "\u001b[0;31m---------------------------------------------------------------------------\u001b[0m",
      "\u001b[0;31mNameError\u001b[0m                                 Traceback (most recent call last)",
      "\u001b[0;32m<ipython-input-1-15eab8e45c23>\u001b[0m in \u001b[0;36m<module>\u001b[0;34m()\u001b[0m\n\u001b[0;32m----> 1\u001b[0;31m \u001b[0mL_array\u001b[0m \u001b[1;33m=\u001b[0m \u001b[0mnp\u001b[0m\u001b[1;33m.\u001b[0m\u001b[0msum\u001b[0m\u001b[1;33m(\u001b[0m\u001b[0mcorrespondences_matrix\u001b[0m\u001b[1;33m,\u001b[0m \u001b[0maxis\u001b[0m \u001b[1;33m=\u001b[0m \u001b[1;36m1\u001b[0m\u001b[1;33m)\u001b[0m\u001b[1;33m\u001b[0m\u001b[0m\n\u001b[0m",
      "\u001b[0;31mNameError\u001b[0m: name 'np' is not defined"
     ]
    }
   ],
   "source": [
    "L_array = np.sum(correspondences_matrix, axis = 1)"
   ]
  },
  {
   "cell_type": "markdown",
   "metadata": {},
   "source": [
    "Количество въезжающих в каждый район:"
   ]
  },
  {
   "cell_type": "code",
   "execution_count": 12,
   "metadata": {
    "collapsed": true
   },
   "outputs": [],
   "source": [
    "W_array = np.sum(correspondences_matrix, axis = 0)"
   ]
  }
 ],
 "metadata": {
  "kernelspec": {
   "display_name": "Python 2",
   "language": "python",
   "name": "python2"
  },
  "language_info": {
   "codemirror_mode": {
    "name": "ipython",
    "version": 2
   },
   "file_extension": ".py",
   "mimetype": "text/x-python",
   "name": "python",
   "nbconvert_exporter": "python",
   "pygments_lexer": "ipython2",
   "version": "2.7.13"
  }
 },
 "nbformat": 4,
 "nbformat_minor": 2
}
